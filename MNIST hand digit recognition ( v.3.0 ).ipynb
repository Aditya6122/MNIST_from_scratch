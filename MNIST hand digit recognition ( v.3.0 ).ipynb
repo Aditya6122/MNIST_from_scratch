{
 "cells": [
  {
   "cell_type": "markdown",
   "id": "c20bf7b2",
   "metadata": {},
   "source": [
    "####   Required Libraries"
   ]
  },
  {
   "cell_type": "code",
   "execution_count": 1,
   "id": "16a89667",
   "metadata": {
    "id": "16a89667"
   },
   "outputs": [],
   "source": [
    "import numpy as np\n",
    "import pandas as pd\n",
    "import matplotlib.pyplot as plt\n",
    "import os"
   ]
  },
  {
   "cell_type": "markdown",
   "id": "8dd77212",
   "metadata": {},
   "source": [
    "#### Set this according to datasets path"
   ]
  },
  {
   "cell_type": "code",
   "execution_count": 2,
   "id": "dc064622",
   "metadata": {
    "id": "dc064622"
   },
   "outputs": [],
   "source": [
    "curr_path = os.getcwd()\n",
    "dataset_path = os.path.join(curr_path,'datasets')\n",
    "datasets = os.listdir(dataset_path)\n",
    "train_set_path = os.path.join(dataset_path,datasets[1])\n",
    "test_set_path = os.path.join(dataset_path,datasets[0])"
   ]
  },
  {
   "cell_type": "markdown",
   "id": "299dd237",
   "metadata": {},
   "source": [
    "#### Reading of csv files"
   ]
  },
  {
   "cell_type": "code",
   "execution_count": 3,
   "id": "97cbf7ff",
   "metadata": {
    "id": "97cbf7ff"
   },
   "outputs": [],
   "source": [
    "train_set = pd.read_csv(train_set_path)\n",
    "test_set = pd.read_csv(test_set_path)"
   ]
  },
  {
   "cell_type": "code",
   "execution_count": 10,
   "id": "c2bb3257",
   "metadata": {
    "colab": {
     "base_uri": "https://localhost:8080/"
    },
    "id": "bf58f90b",
    "outputId": "eb15352e-2ab6-406e-f88d-2007cabc8bc8"
   },
   "outputs": [
    {
     "ename": "AttributeError",
     "evalue": "'numpy.ndarray' object has no attribute 'info'",
     "output_type": "error",
     "traceback": [
      "\u001b[1;31m---------------------------------------------------------------------------\u001b[0m",
      "\u001b[1;31mAttributeError\u001b[0m                            Traceback (most recent call last)",
      "Input \u001b[1;32mIn [10]\u001b[0m, in \u001b[0;36m<cell line: 1>\u001b[1;34m()\u001b[0m\n\u001b[1;32m----> 1\u001b[0m \u001b[43mtrain_set\u001b[49m\u001b[38;5;241;43m.\u001b[39;49m\u001b[43minfo\u001b[49m()\n",
      "\u001b[1;31mAttributeError\u001b[0m: 'numpy.ndarray' object has no attribute 'info'"
     ]
    }
   ],
   "source": [
    "train_set.info()"
   ]
  },
  {
   "cell_type": "code",
   "execution_count": 11,
   "id": "4a13cefe",
   "metadata": {
    "colab": {
     "base_uri": "https://localhost:8080/"
    },
    "id": "4a13cefe",
    "outputId": "f6df8cc0-1060-4f59-ad23-eb5b08e83f36"
   },
   "outputs": [
    {
     "ename": "AttributeError",
     "evalue": "'numpy.ndarray' object has no attribute 'info'",
     "output_type": "error",
     "traceback": [
      "\u001b[1;31m---------------------------------------------------------------------------\u001b[0m",
      "\u001b[1;31mAttributeError\u001b[0m                            Traceback (most recent call last)",
      "Input \u001b[1;32mIn [11]\u001b[0m, in \u001b[0;36m<cell line: 1>\u001b[1;34m()\u001b[0m\n\u001b[1;32m----> 1\u001b[0m \u001b[43mtest_set\u001b[49m\u001b[38;5;241;43m.\u001b[39;49m\u001b[43minfo\u001b[49m()\n",
      "\u001b[1;31mAttributeError\u001b[0m: 'numpy.ndarray' object has no attribute 'info'"
     ]
    }
   ],
   "source": [
    "test_set.info()"
   ]
  },
  {
   "cell_type": "markdown",
   "id": "6c4f367c",
   "metadata": {},
   "source": [
    "#### Preparing the training , validation and test set"
   ]
  },
  {
   "cell_type": "code",
   "execution_count": 6,
   "id": "02b6660c",
   "metadata": {
    "id": "02b6660c"
   },
   "outputs": [],
   "source": [
    "train_set = np.array(train_set)\n",
    "np.random.shuffle(train_set)\n",
    "test_set = np.array(test_set)"
   ]
  },
  {
   "cell_type": "code",
   "execution_count": 7,
   "id": "0a1e19c2",
   "metadata": {
    "id": "0a1e19c2"
   },
   "outputs": [],
   "source": [
    "train_set_X = train_set[:,1:]\n",
    "train_set_y = train_set[:,0].reshape(-1,1)\n",
    "test_set_X = test_set[:,1:]\n",
    "test_set_y = test_set[:,0].reshape(-1,1)"
   ]
  },
  {
   "cell_type": "code",
   "execution_count": 8,
   "id": "d63b59ef",
   "metadata": {
    "id": "d63b59ef"
   },
   "outputs": [],
   "source": [
    "train_set_images = train_set_X.reshape(-1,28,28)\n",
    "test_set_images = test_set_X.reshape(-1,28,28)\n",
    "train_set_labels = train_set_y\n",
    "test_set_labels = test_set_y"
   ]
  },
  {
   "cell_type": "code",
   "execution_count": 9,
   "id": "af2573ed",
   "metadata": {
    "colab": {
     "base_uri": "https://localhost:8080/",
     "height": 279
    },
    "id": "af2573ed",
    "outputId": "1c3e631f-25ab-4162-f6b5-8ef30367b34f"
   },
   "outputs": [
    {
     "ename": "NameError",
     "evalue": "name 'plt' is not defined",
     "output_type": "error",
     "traceback": [
      "\u001b[1;31m---------------------------------------------------------------------------\u001b[0m",
      "\u001b[1;31mNameError\u001b[0m                                 Traceback (most recent call last)",
      "Input \u001b[1;32mIn [9]\u001b[0m, in \u001b[0;36m<cell line: 1>\u001b[1;34m()\u001b[0m\n\u001b[1;32m----> 1\u001b[0m \u001b[43mplt\u001b[49m\u001b[38;5;241m.\u001b[39mimshow(train_set_images[\u001b[38;5;241m0\u001b[39m])\n\u001b[0;32m      2\u001b[0m \u001b[38;5;28mprint\u001b[39m(\u001b[38;5;124m\"\u001b[39m\u001b[38;5;124mLabel :\u001b[39m\u001b[38;5;124m\"\u001b[39m,train_set_labels[\u001b[38;5;241m0\u001b[39m])\n",
      "\u001b[1;31mNameError\u001b[0m: name 'plt' is not defined"
     ]
    }
   ],
   "source": [
    "plt.imshow(train_set_images[0])\n",
    "print(\"Label :\",train_set_labels[0])"
   ]
  },
  {
   "cell_type": "code",
   "execution_count": null,
   "id": "8b70a394",
   "metadata": {
    "id": "8b70a394"
   },
   "outputs": [],
   "source": [
    "X = train_set_X[:50000,:].T\n",
    "X_val = train_set_X[50000:,:].T\n",
    "y = train_set_y[:50000,:]\n",
    "y_val = train_set_y[50000:,:]"
   ]
  },
  {
   "cell_type": "markdown",
   "id": "c903001f",
   "metadata": {},
   "source": [
    "#### Scaling down the features"
   ]
  },
  {
   "cell_type": "code",
   "execution_count": null,
   "id": "1ee42762",
   "metadata": {
    "id": "1ee42762"
   },
   "outputs": [],
   "source": [
    "X = X/256\n",
    "X_val = X_val/256"
   ]
  },
  {
   "cell_type": "code",
   "execution_count": null,
   "id": "28dcb03f",
   "metadata": {
    "id": "28dcb03f"
   },
   "outputs": [],
   "source": [
    "np.set_printoptions(threshold=np.inf)"
   ]
  },
  {
   "cell_type": "markdown",
   "id": "4e04d96e",
   "metadata": {},
   "source": [
    "#### Adding layer dimensions"
   ]
  },
  {
   "cell_type": "code",
   "execution_count": null,
   "id": "cee512e7",
   "metadata": {
    "id": "cee512e7"
   },
   "outputs": [],
   "source": [
    "n_features = X.shape[0]\n",
    "m = X.shape[1]\n",
    "n_h = 10\n",
    "n_y = 10\n",
    "layers = 4\n",
    "layer_units = [n_features]\n",
    "for i in range(1,layers):\n",
    "    layer_units.append(n_h*(layers-i+1)) \n",
    "layer_units.append(n_y)"
   ]
  },
  {
   "cell_type": "code",
   "execution_count": null,
   "id": "e65a54ab",
   "metadata": {
    "colab": {
     "base_uri": "https://localhost:8080/"
    },
    "id": "e65a54ab",
    "outputId": "9f6aa4de-dbc0-4b67-9403-59ec39f52698"
   },
   "outputs": [],
   "source": [
    "print(n_features)\n",
    "print(m)\n",
    "print(layer_units)"
   ]
  },
  {
   "cell_type": "markdown",
   "id": "3acd8dc5",
   "metadata": {},
   "source": [
    "#### Function for converting y to onehot"
   ]
  },
  {
   "cell_type": "code",
   "execution_count": null,
   "id": "ea7c66c4",
   "metadata": {
    "id": "ea7c66c4"
   },
   "outputs": [],
   "source": [
    "def convert_to_onehot(n_y,m,y):\n",
    "    y_onehot = np.zeros((n_y,m))\n",
    "    for i in range(m):\n",
    "        y_onehot[y[i,0],i] = 1\n",
    "    \n",
    "    return y_onehot"
   ]
  },
  {
   "cell_type": "markdown",
   "id": "57cd4a54",
   "metadata": {},
   "source": [
    "#### Function to calculate loss"
   ]
  },
  {
   "cell_type": "code",
   "execution_count": null,
   "id": "7fedfd4d",
   "metadata": {
    "id": "7fedfd4d"
   },
   "outputs": [],
   "source": [
    "def cross_entropy_loss(a,y):\n",
    "    return -np.sum(np.log(a)*y)/a.shape[1]"
   ]
  },
  {
   "cell_type": "markdown",
   "id": "ffaf02fc",
   "metadata": {},
   "source": [
    "#### Function for Initializing parameters"
   ]
  },
  {
   "cell_type": "code",
   "execution_count": null,
   "id": "53a260e1",
   "metadata": {
    "id": "53a260e1"
   },
   "outputs": [],
   "source": [
    "def initialize_parameters(layers,layer_units):\n",
    "    parameters = {}\n",
    "    for i in range(1,layers+1):\n",
    "        parameters['W'+str(i)] = np.random.randn(layer_units[i-1],layer_units[i])*np.tanh(np.sqrt(1/(layer_units[i-1])))\n",
    "        parameters['b'+str(i)] = np.zeros((layer_units[i],1))\n",
    "    return parameters"
   ]
  },
  {
   "cell_type": "markdown",
   "id": "bb429364",
   "metadata": {},
   "source": [
    "#### Relu function"
   ]
  },
  {
   "cell_type": "code",
   "execution_count": null,
   "id": "be3614ab",
   "metadata": {
    "id": "be3614ab"
   },
   "outputs": [],
   "source": [
    "def relu_forward(z):\n",
    "    return np.maximum(0,z)"
   ]
  },
  {
   "cell_type": "markdown",
   "id": "d1dcb18d",
   "metadata": {},
   "source": [
    "#### Softmax function"
   ]
  },
  {
   "cell_type": "code",
   "execution_count": null,
   "id": "67336a1e",
   "metadata": {
    "id": "67336a1e"
   },
   "outputs": [],
   "source": [
    "def softmax_forward(z):\n",
    "    output_layer = np.exp(z)/np.sum(np.exp(z),axis=0,keepdims=True)\n",
    "    return output_layer"
   ]
  },
  {
   "cell_type": "markdown",
   "id": "f114e43a",
   "metadata": {},
   "source": [
    "#### Forward Propagation"
   ]
  },
  {
   "cell_type": "code",
   "execution_count": null,
   "id": "053932a2",
   "metadata": {
    "id": "053932a2"
   },
   "outputs": [],
   "source": [
    "def forward_propagation(X,parameters,layers):\n",
    "    cache = {}\n",
    "    cache['Z1'] = np.dot(parameters['W1'].T,X) + parameters['b1']\n",
    "    for i in range(1,layers):\n",
    "        cache['A'+str(i)] = relu_forward(cache['Z'+str(i)])\n",
    "\n",
    "        cache['Z'+str(i+1)] = np.dot(parameters['W'+str(i+1)].T,cache['A'+str(i)]) + parameters['b'+str(i+1)]\n",
    "    cache['A'+str(layers)] = softmax_forward(cache['Z'+str(layers)])\n",
    "    return cache"
   ]
  },
  {
   "cell_type": "markdown",
   "id": "e37ec252",
   "metadata": {},
   "source": [
    "#### Relu Backward"
   ]
  },
  {
   "cell_type": "code",
   "execution_count": null,
   "id": "bacc2dd4",
   "metadata": {
    "id": "bacc2dd4"
   },
   "outputs": [],
   "source": [
    "def relu_backward(dA,Z):\n",
    "    dZ = np.array(dA, copy=True)\n",
    "    dZ[Z <= 0] = 0\n",
    "    return dZ"
   ]
  },
  {
   "cell_type": "markdown",
   "id": "80830641",
   "metadata": {},
   "source": [
    "#### Softmax Backward"
   ]
  },
  {
   "cell_type": "code",
   "execution_count": null,
   "id": "766d06be",
   "metadata": {
    "id": "766d06be"
   },
   "outputs": [],
   "source": [
    "def softmax_backward(Y,A):\n",
    "    return -(Y-A)"
   ]
  },
  {
   "cell_type": "markdown",
   "id": "fb0c1798",
   "metadata": {},
   "source": [
    "#### Backward Propagation"
   ]
  },
  {
   "cell_type": "code",
   "execution_count": null,
   "id": "6de0dd5c",
   "metadata": {
    "id": "6de0dd5c"
   },
   "outputs": [],
   "source": [
    "def backward_propagation(cache,parameters,X,Y,layers):\n",
    "    gradients = {}\n",
    "    gradients['dZ'+str(layers)] = softmax_backward(Y,cache['A'+str(layers)])\n",
    "    for i in reversed(range(1,layers)):\n",
    "        gradients['dW'+str(i+1)] = np.dot(gradients['dZ'+str(i+1)],cache['A'+str(i)].T).T\n",
    "        gradients['db'+str(i+1)] = np.sum(gradients['dZ'+str(i+1)]*parameters['b'+str(i+1)],axis=1,keepdims=True)\n",
    "        gradients['dA'+str(i)] = np.dot(parameters['W'+str(i+1)],gradients['dZ'+str(i+1)])\n",
    "        gradients['dZ'+str(i)] = relu_backward(gradients['dA'+str(i)],cache['Z'+str(i)])\n",
    "    gradients['dW1'] = np.dot(gradients['dZ1'],X.T).T\n",
    "    gradients['db1'] = np.sum(gradients['dZ1']*parameters['b1'],axis=1,keepdims=True)\n",
    "    return gradients"
   ]
  },
  {
   "cell_type": "markdown",
   "id": "4d40b82c",
   "metadata": {},
   "source": [
    "#### Updating parameters"
   ]
  },
  {
   "cell_type": "code",
   "execution_count": null,
   "id": "9043582b",
   "metadata": {
    "id": "9043582b"
   },
   "outputs": [],
   "source": [
    "def update_parameters(parameters,gradients,learning_rate):\n",
    "    for i in range(1,layers+1):\n",
    "        parameters['W'+str(i)] = parameters['W'+str(i)] - learning_rate*gradients['dW'+str(i)]\n",
    "        parameters['b'+str(i)] = parameters['b'+str(i)] - learning_rate*gradients['db'+str(i)]\n",
    "    return parameters"
   ]
  },
  {
   "cell_type": "markdown",
   "id": "f666f982",
   "metadata": {},
   "source": [
    "#### Execution Flow"
   ]
  },
  {
   "cell_type": "code",
   "execution_count": null,
   "id": "939e9a22",
   "metadata": {
    "id": "939e9a22"
   },
   "outputs": [],
   "source": [
    "parameters = initialize_parameters(layers,layer_units)"
   ]
  },
  {
   "cell_type": "code",
   "execution_count": null,
   "id": "18149a5f",
   "metadata": {
    "id": "18149a5f"
   },
   "outputs": [],
   "source": [
    "y_onehot = convert_to_onehot(n_y,m,y)\n",
    "y_onehot_val = convert_to_onehot(n_y,10000,y_val)"
   ]
  },
  {
   "cell_type": "code",
   "execution_count": null,
   "id": "4ade6671",
   "metadata": {
    "id": "4ade6671"
   },
   "outputs": [],
   "source": [
    "cache = forward_propagation(X,parameters,layers)\n",
    "cache_val = forward_propagation(X_val,parameters,layers)"
   ]
  },
  {
   "cell_type": "code",
   "execution_count": null,
   "id": "ca576c9f",
   "metadata": {
    "colab": {
     "base_uri": "https://localhost:8080/"
    },
    "id": "ca576c9f",
    "outputId": "1fa3c51a-6715-4093-c965-24a1bbca5a0a"
   },
   "outputs": [],
   "source": [
    "cross_entropy_loss(cache['A'+str(layers)],y_onehot)"
   ]
  },
  {
   "cell_type": "code",
   "execution_count": null,
   "id": "311d0abc",
   "metadata": {},
   "outputs": [],
   "source": [
    "learning_rates = [0.000007,0.000005,0.000004,0.000004]\n",
    "costs = []\n",
    "costs_val = []\n",
    "for i in range(1300):\n",
    "    cost = cross_entropy_loss(cache['A'+str(layers)],y_onehot)\n",
    "    cost_val = cross_entropy_loss(cache_val['A'+str(layers)],y_onehot_val)\n",
    "    gradients = backward_propagation(cache,parameters,X,y_onehot,layers)\n",
    "    parameters = update_parameters(parameters,gradients,learning_rates[int(i/400)])\n",
    "    cache = forward_propagation(X,parameters,layers)\n",
    "    cache_val = forward_propagation(X_val,parameters,layers)\n",
    "    if((i+1)%50 == 0):\n",
    "        costs.append(cost)\n",
    "        costs_val.append(cost_val)\n",
    "        print(\"Epoch\",i+1,\": train_loss :\",cost,\", val_loss :\",cost_val)"
   ]
  },
  {
   "cell_type": "markdown",
   "id": "8de6ff0c",
   "metadata": {},
   "source": [
    "#### Predicting Outputs and Calculating Accuracy"
   ]
  },
  {
   "cell_type": "code",
   "execution_count": null,
   "id": "0475b92b",
   "metadata": {
    "id": "0475b92b"
   },
   "outputs": [],
   "source": [
    "pred_labels = cache['A'+str(layers)].argmax(axis=0)\n",
    "pred_labels_val = cache_val['A'+str(layers)].argmax(axis=0)\n",
    "orig_y = np.squeeze(y)\n",
    "orig_y_val = np.squeeze(y_val)"
   ]
  },
  {
   "cell_type": "code",
   "execution_count": null,
   "id": "7a897d7d",
   "metadata": {
    "colab": {
     "base_uri": "https://localhost:8080/"
    },
    "id": "7a897d7d",
    "outputId": "49f66cf2-ed7b-4978-e13c-e3b95c04ef10"
   },
   "outputs": [],
   "source": [
    "train_count = 0\n",
    "for i in range(50000):\n",
    "    if(pred_labels[i] == orig_y[i]):\n",
    "        train_count+=1\n",
    "\n",
    "val_count = 0\n",
    "for i in range(10000):\n",
    "    if(pred_labels_val[i] == orig_y_val[i]):\n",
    "        val_count+=1\n",
    "        \n",
    "train_accuracy = (train_count*100)/50000\n",
    "val_accuracy = (val_count*100)/10000\n",
    "\n",
    "print(\"Model accuracy on training set is \"+str(train_accuracy)+\"%\")\n",
    "print(\"Model accuracy on validation set is \"+str(val_accuracy)+\"%\")"
   ]
  },
  {
   "cell_type": "code",
   "execution_count": null,
   "id": "adbf2b29",
   "metadata": {
    "id": "adbf2b29"
   },
   "outputs": [],
   "source": [
    "X_test = test_set_X.T\n",
    "y_test = test_set_y\n",
    "X_test = X_test/256\n",
    "orig_y_test = np.squeeze(y_test)\n",
    "cache_test = forward_propagation(X_test,parameters,layers)\n",
    "pred_labels_test = cache_test['A'+str(layers)].argmax(axis=0)"
   ]
  },
  {
   "cell_type": "code",
   "execution_count": null,
   "id": "b675c601",
   "metadata": {
    "id": "b675c601"
   },
   "outputs": [],
   "source": [
    "test_count = 0\n",
    "for i in range(10000):\n",
    "    if(pred_labels_test[i] == orig_y_test[i]):\n",
    "        test_count+=1\n",
    "\n",
    "test_accuracy = (test_count*100)/10000\n",
    "print(\"Model accuracy on test set is \"+str(test_accuracy)+\"%\")"
   ]
  },
  {
   "cell_type": "code",
   "execution_count": null,
   "id": "17514b2a",
   "metadata": {},
   "outputs": [],
   "source": []
  }
 ],
 "metadata": {
  "colab": {
   "collapsed_sections": [],
   "name": "MNIST hand digit recognition ( v.2.1 ).ipynb",
   "provenance": []
  },
  "kernelspec": {
   "display_name": "Python 3 (ipykernel)",
   "language": "python",
   "name": "python3"
  },
  "language_info": {
   "codemirror_mode": {
    "name": "ipython",
    "version": 3
   },
   "file_extension": ".py",
   "mimetype": "text/x-python",
   "name": "python",
   "nbconvert_exporter": "python",
   "pygments_lexer": "ipython3",
   "version": "3.9.12"
  }
 },
 "nbformat": 4,
 "nbformat_minor": 5
}
