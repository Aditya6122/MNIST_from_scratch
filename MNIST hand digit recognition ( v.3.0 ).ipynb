{
 "cells": [
  {
   "cell_type": "markdown",
   "id": "f1df35cf",
   "metadata": {},
   "source": [
    "####   Required Libraries"
   ]
  },
  {
   "cell_type": "code",
   "execution_count": 1,
   "id": "16a89667",
   "metadata": {
    "id": "16a89667"
   },
   "outputs": [],
   "source": [
    "import numpy as np\n",
    "import pandas as pd\n",
    "import matplotlib.pyplot as plt\n",
    "import os"
   ]
  },
  {
   "cell_type": "markdown",
   "id": "e859ebad",
   "metadata": {},
   "source": [
    "#### Set this according to datasets path"
   ]
  },
  {
   "cell_type": "code",
   "execution_count": 2,
   "id": "dc064622",
   "metadata": {
    "id": "dc064622"
   },
   "outputs": [],
   "source": [
    "curr_path = os.getcwd()\n",
    "dataset_path = os.path.join(curr_path,'datasets')\n",
    "datasets = os.listdir(dataset_path)\n",
    "train_set_path = os.path.join(dataset_path,datasets[1])\n",
    "test_set_path = os.path.join(dataset_path,datasets[0])"
   ]
  },
  {
   "cell_type": "markdown",
   "id": "7fc92beb",
   "metadata": {},
   "source": [
    "#### Reading of csv files"
   ]
  },
  {
   "cell_type": "code",
   "execution_count": 3,
   "id": "97cbf7ff",
   "metadata": {
    "id": "97cbf7ff"
   },
   "outputs": [],
   "source": [
    "train_set = pd.read_csv(train_set_path)\n",
    "test_set = pd.read_csv(test_set_path)"
   ]
  },
  {
   "cell_type": "code",
   "execution_count": 4,
   "id": "a91eb6e6",
   "metadata": {
    "colab": {
     "base_uri": "https://localhost:8080/"
    },
    "id": "bf58f90b",
    "outputId": "eb15352e-2ab6-406e-f88d-2007cabc8bc8"
   },
   "outputs": [
    {
     "name": "stdout",
     "output_type": "stream",
     "text": [
      "<class 'pandas.core.frame.DataFrame'>\n",
      "RangeIndex: 60000 entries, 0 to 59999\n",
      "Columns: 785 entries, label to 28x28\n",
      "dtypes: int64(785)\n",
      "memory usage: 359.3 MB\n"
     ]
    }
   ],
   "source": [
    "train_set.info()"
   ]
  },
  {
   "cell_type": "code",
   "execution_count": 5,
   "id": "4a13cefe",
   "metadata": {
    "colab": {
     "base_uri": "https://localhost:8080/"
    },
    "id": "4a13cefe",
    "outputId": "f6df8cc0-1060-4f59-ad23-eb5b08e83f36"
   },
   "outputs": [
    {
     "name": "stdout",
     "output_type": "stream",
     "text": [
      "<class 'pandas.core.frame.DataFrame'>\n",
      "RangeIndex: 10000 entries, 0 to 9999\n",
      "Columns: 785 entries, label to 28x28\n",
      "dtypes: int64(785)\n",
      "memory usage: 59.9 MB\n"
     ]
    }
   ],
   "source": [
    "test_set.info()"
   ]
  },
  {
   "cell_type": "markdown",
   "id": "f84f5032",
   "metadata": {},
   "source": [
    "#### Preparing the training , validation and test set"
   ]
  },
  {
   "cell_type": "code",
   "execution_count": 6,
   "id": "02b6660c",
   "metadata": {
    "id": "02b6660c"
   },
   "outputs": [],
   "source": [
    "train_set = np.array(train_set)\n",
    "np.random.shuffle(train_set)\n",
    "test_set = np.array(test_set)"
   ]
  },
  {
   "cell_type": "code",
   "execution_count": 7,
   "id": "0a1e19c2",
   "metadata": {
    "id": "0a1e19c2"
   },
   "outputs": [],
   "source": [
    "train_set_X = train_set[:,1:]\n",
    "train_set_y = train_set[:,0].reshape(-1,1)\n",
    "test_set_X = test_set[:,1:]\n",
    "test_set_y = test_set[:,0].reshape(-1,1)"
   ]
  },
  {
   "cell_type": "code",
   "execution_count": 8,
   "id": "d63b59ef",
   "metadata": {
    "id": "d63b59ef"
   },
   "outputs": [],
   "source": [
    "train_set_images = train_set_X.reshape(-1,28,28)\n",
    "test_set_images = test_set_X.reshape(-1,28,28)\n",
    "train_set_labels = train_set_y\n",
    "test_set_labels = test_set_y"
   ]
  },
  {
   "cell_type": "code",
   "execution_count": 9,
   "id": "af2573ed",
   "metadata": {
    "colab": {
     "base_uri": "https://localhost:8080/",
     "height": 279
    },
    "id": "af2573ed",
    "outputId": "1c3e631f-25ab-4162-f6b5-8ef30367b34f"
   },
   "outputs": [
    {
     "name": "stdout",
     "output_type": "stream",
     "text": [
      "Label : [2]\n"
     ]
    },
    {
     "data": {
      "image/png": "[encoded data removed]",
      "text/plain": [
       "<Figure size 432x288 with 1 Axes>"
      ]
     },
     "metadata": {
      "needs_background": "light"
     },
     "output_type": "display_data"
    }
   ],
   "source": [
    "plt.imshow(train_set_images[0])\n",
    "print(\"Label :\",train_set_labels[0])"
   ]
  },
  {
   "cell_type": "code",
   "execution_count": 10,
   "id": "8b70a394",
   "metadata": {
    "id": "8b70a394"
   },
   "outputs": [],
   "source": [
    "X = train_set_X[:50000,:].T\n",
    "X_val = train_set_X[50000:,:].T\n",
    "y = train_set_y[:50000,:]\n",
    "y_val = train_set_y[50000:,:]"
   ]
  },
  {
   "cell_type": "markdown",
   "id": "f17798da",
   "metadata": {},
   "source": [
    "#### Scaling down the features"
   ]
  },
  {
   "cell_type": "code",
   "execution_count": 11,
   "id": "1ee42762",
   "metadata": {
    "id": "1ee42762"
   },
   "outputs": [],
   "source": [
    "X = X/256\n",
    "X_val = X_val/256"
   ]
  },
  {
   "cell_type": "code",
   "execution_count": 12,
   "id": "28dcb03f",
   "metadata": {
    "id": "28dcb03f"
   },
   "outputs": [],
   "source": [
    "np.set_printoptions(threshold=np.inf)"
   ]
  },
  {
   "cell_type": "markdown",
   "id": "2169648d",
   "metadata": {},
   "source": [
    "#### Adding layer dimensions"
   ]
  },
  {
   "cell_type": "code",
   "execution_count": 13,
   "id": "cee512e7",
   "metadata": {
    "id": "cee512e7"
   },
   "outputs": [],
   "source": [
    "n_features = X.shape[0]\n",
    "m = X.shape[1]\n",
    "n_h = 10\n",
    "n_y = 10\n",
    "layers = 4\n",
    "layer_units = [n_features]\n",
    "for i in range(1,layers):\n",
    "    layer_units.append(n_h*(layers-i+1)) \n",
    "layer_units.append(n_y)"
   ]
  },
  {
   "cell_type": "code",
   "execution_count": 14,
   "id": "e65a54ab",
   "metadata": {
    "colab": {
     "base_uri": "https://localhost:8080/"
    },
    "id": "e65a54ab",
    "outputId": "9f6aa4de-dbc0-4b67-9403-59ec39f52698"
   },
   "outputs": [
    {
     "name": "stdout",
     "output_type": "stream",
     "text": [
      "784\n",
      "50000\n",
      "[784, 40, 30, 20, 10]\n"
     ]
    }
   ],
   "source": [
    "print(n_features)\n",
    "print(m)\n",
    "print(layer_units)"
   ]
  },
  {
   "cell_type": "markdown",
   "id": "df8a36ea",
   "metadata": {},
   "source": [
    "#### Function for converting y to onehot"
   ]
  },
  {
   "cell_type": "code",
   "execution_count": 15,
   "id": "ea7c66c4",
   "metadata": {
    "id": "ea7c66c4"
   },
   "outputs": [],
   "source": [
    "def convert_to_onehot(n_y,m,y):\n",
    "    y_onehot = np.zeros((n_y,m))\n",
    "    for i in range(m):\n",
    "        y_onehot[y[i,0],i] = 1\n",
    "    \n",
    "    return y_onehot"
   ]
  },
  {
   "cell_type": "markdown",
   "id": "a0d09192",
   "metadata": {},
   "source": [
    "#### Function to calculate loss"
   ]
  },
  {
   "cell_type": "code",
   "execution_count": 16,
   "id": "7fedfd4d",
   "metadata": {
    "id": "7fedfd4d"
   },
   "outputs": [],
   "source": [
    "def cross_entropy_loss(a,y):\n",
    "    return -np.sum(np.log(a)*y)/a.shape[1]"
   ]
  },
  {
   "cell_type": "markdown",
   "id": "df5cb603",
   "metadata": {},
   "source": [
    "#### Function for Initializing parameters"
   ]
  },
  {
   "cell_type": "code",
   "execution_count": 17,
   "id": "53a260e1",
   "metadata": {
    "id": "53a260e1"
   },
   "outputs": [],
   "source": [
    "def initialize_parameters(layers,layer_units):\n",
    "    parameters = {}\n",
    "    for i in range(1,layers+1):\n",
    "        parameters['W'+str(i)] = np.random.randn(layer_units[i-1],layer_units[i])*np.tanh(np.sqrt(1/(layer_units[i-1])))\n",
    "        parameters['b'+str(i)] = np.zeros((layer_units[i],1))\n",
    "    return parameters"
   ]
  },
  {
   "cell_type": "markdown",
   "id": "fbf94396",
   "metadata": {},
   "source": [
    "#### Relu function"
   ]
  },
  {
   "cell_type": "code",
   "execution_count": 18,
   "id": "be3614ab",
   "metadata": {
    "id": "be3614ab"
   },
   "outputs": [],
   "source": [
    "def relu_forward(z):\n",
    "    return np.maximum(0,z)"
   ]
  },
  {
   "cell_type": "markdown",
   "id": "7f9ab2fa",
   "metadata": {},
   "source": [
    "#### Softmax function"
   ]
  },
  {
   "cell_type": "code",
   "execution_count": 19,
   "id": "67336a1e",
   "metadata": {
    "id": "67336a1e"
   },
   "outputs": [],
   "source": [
    "def softmax_forward(z):\n",
    "    output_layer = np.exp(z)/np.sum(np.exp(z),axis=0,keepdims=True)\n",
    "    return output_layer"
   ]
  },
  {
   "cell_type": "markdown",
   "id": "5cdb3b4f",
   "metadata": {},
   "source": [
    "#### Forward Propagation"
   ]
  },
  {
   "cell_type": "code",
   "execution_count": 20,
   "id": "053932a2",
   "metadata": {
    "id": "053932a2"
   },
   "outputs": [],
   "source": [
    "def forward_propagation(X,parameters,layers):\n",
    "    cache = {}\n",
    "    cache['Z1'] = np.dot(parameters['W1'].T,X) + parameters['b1']\n",
    "    for i in range(1,layers):\n",
    "        cache['A'+str(i)] = relu_forward(cache['Z'+str(i)])\n",
    "\n",
    "        cache['Z'+str(i+1)] = np.dot(parameters['W'+str(i+1)].T,cache['A'+str(i)]) + parameters['b'+str(i+1)]\n",
    "    cache['A'+str(layers)] = softmax_forward(cache['Z'+str(layers)])\n",
    "    return cache"
   ]
  },
  {
   "cell_type": "markdown",
   "id": "a30b8df0",
   "metadata": {},
   "source": [
    "#### Relu Backward"
   ]
  },
  {
   "cell_type": "code",
   "execution_count": 21,
   "id": "bacc2dd4",
   "metadata": {
    "id": "bacc2dd4"
   },
   "outputs": [],
   "source": [
    "def relu_backward(dA,Z):\n",
    "    dZ = np.array(dA, copy=True)\n",
    "    dZ[Z <= 0] = 0\n",
    "    return dZ"
   ]
  },
  {
   "cell_type": "markdown",
   "id": "b2046acb",
   "metadata": {},
   "source": [
    "#### Softmax Backward"
   ]
  },
  {
   "cell_type": "code",
   "execution_count": 22,
   "id": "766d06be",
   "metadata": {
    "id": "766d06be"
   },
   "outputs": [],
   "source": [
    "def softmax_backward(Y,A):\n",
    "    return -(Y-A)"
   ]
  },
  {
   "cell_type": "markdown",
   "id": "4141a521",
   "metadata": {},
   "source": [
    "#### Backward Propagation"
   ]
  },
  {
   "cell_type": "code",
   "execution_count": 23,
   "id": "6de0dd5c",
   "metadata": {
    "id": "6de0dd5c"
   },
   "outputs": [],
   "source": [
    "def backward_propagation(cache,parameters,X,Y,layers):\n",
    "    gradients = {}\n",
    "    gradients['dZ'+str(layers)] = softmax_backward(Y,cache['A'+str(layers)])\n",
    "    for i in reversed(range(1,layers)):\n",
    "        gradients['dW'+str(i+1)] = np.dot(gradients['dZ'+str(i+1)],cache['A'+str(i)].T).T\n",
    "        gradients['db'+str(i+1)] = np.sum(gradients['dZ'+str(i+1)]*parameters['b'+str(i+1)],axis=1,keepdims=True)\n",
    "        gradients['dA'+str(i)] = np.dot(parameters['W'+str(i+1)],gradients['dZ'+str(i+1)])\n",
    "        gradients['dZ'+str(i)] = relu_backward(gradients['dA'+str(i)],cache['Z'+str(i)])\n",
    "    gradients['dW1'] = np.dot(gradients['dZ1'],X.T).T\n",
    "    gradients['db1'] = np.sum(gradients['dZ1']*parameters['b1'],axis=1,keepdims=True)\n",
    "    return gradients"
   ]
  },
  {
   "cell_type": "markdown",
   "id": "e4c27ccd",
   "metadata": {},
   "source": [
    "#### Updating parameters"
   ]
  },
  {
   "cell_type": "code",
   "execution_count": 24,
   "id": "9043582b",
   "metadata": {
    "id": "9043582b"
   },
   "outputs": [],
   "source": [
    "def update_parameters(parameters,gradients,learning_rate):\n",
    "    for i in range(1,layers+1):\n",
    "        parameters['W'+str(i)] = parameters['W'+str(i)] - learning_rate*gradients['dW'+str(i)]\n",
    "        parameters['b'+str(i)] = parameters['b'+str(i)] - learning_rate*gradients['db'+str(i)]\n",
    "    return parameters"
   ]
  },
  {
   "cell_type": "markdown",
   "id": "620f5d3a",
   "metadata": {},
   "source": [
    "#### Execution Flow"
   ]
  },
  {
   "cell_type": "code",
   "execution_count": 25,
   "id": "939e9a22",
   "metadata": {
    "id": "939e9a22"
   },
   "outputs": [],
   "source": [
    "parameters = initialize_parameters(layers,layer_units)"
   ]
  },
  {
   "cell_type": "code",
   "execution_count": 26,
   "id": "18149a5f",
   "metadata": {
    "id": "18149a5f"
   },
   "outputs": [],
   "source": [
    "y_onehot = convert_to_onehot(n_y,m,y)\n",
    "y_onehot_val = convert_to_onehot(n_y,10000,y_val)"
   ]
  },
  {
   "cell_type": "code",
   "execution_count": 27,
   "id": "4ade6671",
   "metadata": {
    "id": "4ade6671"
   },
   "outputs": [],
   "source": [
    "cache = forward_propagation(X,parameters,layers)\n",
    "cache_val = forward_propagation(X_val,parameters,layers)"
   ]
  },
  {
   "cell_type": "code",
   "execution_count": 28,
   "id": "ca576c9f",
   "metadata": {
    "colab": {
     "base_uri": "https://localhost:8080/"
    },
    "id": "ca576c9f",
    "outputId": "1fa3c51a-6715-4093-c965-24a1bbca5a0a"
   },
   "outputs": [
    {
     "data": {
      "text/plain": [
       "2.3185299117019436"
      ]
     },
     "execution_count": 28,
     "metadata": {},
     "output_type": "execute_result"
    }
   ],
   "source": [
    "cross_entropy_loss(cache['A'+str(layers)],y_onehot)"
   ]
  },
  {
   "cell_type": "code",
   "execution_count": 29,
   "id": "311d0abc",
   "metadata": {},
   "outputs": [
    {
     "name": "stdout",
     "output_type": "stream",
     "text": [
      "Iteration 50 : train_loss : 1.0555124623115337 , val_loss : 1.0364269353950093\n",
      "Iteration 100 : train_loss : 0.40729739398192794 , val_loss : 0.4065514569706054\n",
      "Iteration 150 : train_loss : 0.291410480135405 , val_loss : 0.30194611008144207\n",
      "Iteration 200 : train_loss : 0.23078966138519116 , val_loss : 0.2404012656277945\n",
      "Iteration 250 : train_loss : 0.19458215594260106 , val_loss : 0.20546225254219153\n",
      "Iteration 300 : train_loss : 0.17189088513890405 , val_loss : 0.1841739480516403\n",
      "Iteration 350 : train_loss : 0.1581992327551499 , val_loss : 0.17144613096513173\n",
      "Iteration 400 : train_loss : 0.14051835148678346 , val_loss : 0.15598341982217154\n",
      "Iteration 450 : train_loss : 0.1311933004819902 , val_loss : 0.14850034040048443\n",
      "Iteration 500 : train_loss : 0.12332093218804407 , val_loss : 0.14245988474986213\n",
      "Iteration 550 : train_loss : 0.11653390870040774 , val_loss : 0.13750430076497175\n",
      "Iteration 600 : train_loss : 0.11054063431895567 , val_loss : 0.13315025044575268\n",
      "Iteration 650 : train_loss : 0.1052017238331678 , val_loss : 0.1294552385817158\n",
      "Iteration 700 : train_loss : 0.10042658027034822 , val_loss : 0.12624375257302198\n",
      "Iteration 750 : train_loss : 0.096066722480644 , val_loss : 0.12351178981271002\n",
      "Iteration 800 : train_loss : 0.09207113060344028 , val_loss : 0.12109523521113123\n",
      "Iteration 850 : train_loss : 0.08907196251078092 , val_loss : 0.1193745065323377\n",
      "Iteration 900 : train_loss : 0.0862482879955022 , val_loss : 0.1177757324093569\n",
      "Iteration 950 : train_loss : 0.08358158121820025 , val_loss : 0.11638642183729955\n",
      "Iteration 1000 : train_loss : 0.08104104501252826 , val_loss : 0.1151348871178958\n",
      "Iteration 1050 : train_loss : 0.0786149871067711 , val_loss : 0.11393049963238314\n",
      "Iteration 1100 : train_loss : 0.07628311472060945 , val_loss : 0.11281224820584662\n",
      "Iteration 1150 : train_loss : 0.07403605352239397 , val_loss : 0.11182673087423929\n",
      "Iteration 1200 : train_loss : 0.07189424679886335 , val_loss : 0.11094958521169017\n",
      "Iteration 1250 : train_loss : 0.06985565488487391 , val_loss : 0.1101522559745501\n",
      "Iteration 1300 : train_loss : 0.06790212575401917 , val_loss : 0.10943261529839673\n"
     ]
    }
   ],
   "source": [
    "learning_rates = [0.000007,0.000005,0.000004,0.000004]\n",
    "costs = []\n",
    "costs_val = []\n",
    "for i in range(1300):\n",
    "    cost = cross_entropy_loss(cache['A'+str(layers)],y_onehot)\n",
    "    cost_val = cross_entropy_loss(cache_val['A'+str(layers)],y_onehot_val)\n",
    "    gradients = backward_propagation(cache,parameters,X,y_onehot,layers)\n",
    "    parameters = update_parameters(parameters,gradients,learning_rates[int(i/400)])\n",
    "    cache = forward_propagation(X,parameters,layers)\n",
    "    cache_val = forward_propagation(X_val,parameters,layers)\n",
    "    if((i+1)%50 == 0):\n",
    "        costs.append(cost)\n",
    "        costs_val.append(cost_val)\n",
    "        print(\"Iteration\",i+1,\": train_loss :\",cost,\", val_loss :\",cost_val)"
   ]
  },
  {
   "cell_type": "markdown",
   "id": "0b8935f6",
   "metadata": {},
   "source": [
    "#### Predicting Outputs and Calculating Accuracy"
   ]
  },
  {
   "cell_type": "code",
   "execution_count": 30,
   "id": "0475b92b",
   "metadata": {
    "id": "0475b92b"
   },
   "outputs": [],
   "source": [
    "pred_labels = cache['A'+str(layers)].argmax(axis=0)\n",
    "pred_labels_val = cache_val['A'+str(layers)].argmax(axis=0)\n",
    "orig_y = np.squeeze(y)\n",
    "orig_y_val = np.squeeze(y_val)"
   ]
  },
  {
   "cell_type": "code",
   "execution_count": 31,
   "id": "7a897d7d",
   "metadata": {
    "colab": {
     "base_uri": "https://localhost:8080/"
    },
    "id": "7a897d7d",
    "outputId": "49f66cf2-ed7b-4978-e13c-e3b95c04ef10"
   },
   "outputs": [
    {
     "name": "stdout",
     "output_type": "stream",
     "text": [
      "Model accuracy on training set is 98.126%\n",
      "Model accuracy on validation set is 97.06%\n"
     ]
    }
   ],
   "source": [
    "train_count = 0\n",
    "for i in range(50000):\n",
    "    if(pred_labels[i] == orig_y[i]):\n",
    "        train_count+=1\n",
    "\n",
    "val_count = 0\n",
    "for i in range(10000):\n",
    "    if(pred_labels_val[i] == orig_y_val[i]):\n",
    "        val_count+=1\n",
    "        \n",
    "train_accuracy = (train_count*100)/50000\n",
    "val_accuracy = (val_count*100)/10000\n",
    "\n",
    "print(\"Model accuracy on training set is \"+str(train_accuracy)+\"%\")\n",
    "print(\"Model accuracy on validation set is \"+str(val_accuracy)+\"%\")"
   ]
  },
  {
   "cell_type": "code",
   "execution_count": 32,
   "id": "adbf2b29",
   "metadata": {
    "id": "adbf2b29"
   },
   "outputs": [],
   "source": [
    "X_test = test_set_X.T\n",
    "y_test = test_set_y\n",
    "X_test = X_test/256\n",
    "orig_y_test = np.squeeze(y_test)\n",
    "cache_test = forward_propagation(X_test,parameters,layers)\n",
    "pred_labels_test = cache_test['A'+str(layers)].argmax(axis=0)"
   ]
  },
  {
   "cell_type": "code",
   "execution_count": 33,
   "id": "b675c601",
   "metadata": {
    "id": "b675c601"
   },
   "outputs": [
    {
     "name": "stdout",
     "output_type": "stream",
     "text": [
      "Model accuracy on test set is 96.47%\n"
     ]
    }
   ],
   "source": [
    "test_count = 0\n",
    "for i in range(10000):\n",
    "    if(pred_labels_test[i] == orig_y_test[i]):\n",
    "        test_count+=1\n",
    "\n",
    "test_accuracy = (test_count*100)/10000\n",
    "print(\"Model accuracy on test set is \"+str(test_accuracy)+\"%\")"
   ]
  }
 ],
 "metadata": {
  "colab": {
   "collapsed_sections": [],
   "name": "MNIST hand digit recognition ( v.2.1 ).ipynb",
   "provenance": []
  },
  "kernelspec": {
   "display_name": "Python 3 (ipykernel)",
   "language": "python",
   "name": "python3"
  },
  "language_info": {
   "codemirror_mode": {
    "name": "ipython",
    "version": 3
   },
   "file_extension": ".py",
   "mimetype": "text/x-python",
   "name": "python",
   "nbconvert_exporter": "python",
   "pygments_lexer": "ipython3",
   "version": "3.9.12"
  }
 },
 "nbformat": 4,
 "nbformat_minor": 5
}
